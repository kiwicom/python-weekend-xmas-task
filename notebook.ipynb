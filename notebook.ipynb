{
 "cells": [
  {
   "cell_type": "code",
   "execution_count": 3,
   "metadata": {},
   "outputs": [],
   "source": [
    "# Params\n",
    "# python -m solution example/example0.csv RFZ WIW --bags=1 --return\n",
    "\n",
    "csv_file_name = 'example/example0.csv'\n",
    "origin = 'BTW'\n",
    "destination = 'REJ'\n",
    "bags = 1\n",
    "stops = 1"
   ]
  },
  {
   "cell_type": "code",
   "execution_count": 4,
   "metadata": {},
   "outputs": [],
   "source": [
    "import csv\n",
    "import datetime as dt\n",
    "\n",
    "# Store data\n",
    "flights = []\n",
    "\n",
    "with open(csv_file_name, 'r') as csv_file:\n",
    "    csv_reader = csv.reader(csv_file)\n",
    "    \n",
    "    # Loop over the header line\n",
    "    header = next(csv_reader)\n",
    "\n",
    "    for row in csv_reader:\n",
    "        # row = [flight_no, origin, destination, departure, arrival, base_price, bag_price, bags_allowed]\n",
    "        flight_no = row[0]\n",
    "        origin = row[1]\n",
    "        destination = row[2]\n",
    "        departure = dt.datetime.strptime(row[3], '%Y-%m-%dT%H:%M:%S')\n",
    "        arrival = dt.datetime.strptime(row[4], '%Y-%m-%dT%H:%M:%S')\n",
    "        base_price = float(row[5])\n",
    "        bag_price = float(row[6])\n",
    "        bags_allowed = int(row[7])\n",
    "\n",
    "        # data.append([flight_no, origin, destination, departure, arrival, base_price, bag_price, bags])\n",
    "        flights.append({'flight_no': flight_no, 'origin': origin, 'destination': destination, 'departure': departure, 'arrival': arrival, 'base_price': base_price, 'bag_price': bag_price, 'bags': bags})\n",
    "\n"
   ]
  },
  {
   "cell_type": "code",
   "execution_count": 5,
   "metadata": {},
   "outputs": [
    {
     "name": "stdout",
     "output_type": "stream",
     "text": [
      "{'flight_no': 'ZH151', 'origin': 'WIW', 'destination': 'ECV', 'departure': datetime.datetime(2021, 9, 1, 7, 25), 'arrival': datetime.datetime(2021, 9, 1, 12, 35), 'base_price': 245.0, 'bag_price': 12.0, 'bags': 1}\n",
      "{'flight_no': 'ZH665', 'origin': 'ECV', 'destination': 'RFZ', 'departure': datetime.datetime(2021, 9, 1, 12, 10), 'arrival': datetime.datetime(2021, 9, 1, 14, 40), 'base_price': 58.0, 'bag_price': 12.0, 'bags': 1}\n",
      "{'flight_no': 'ZH151', 'origin': 'ECV', 'destination': 'WIW', 'departure': datetime.datetime(2021, 9, 1, 15, 35), 'arrival': datetime.datetime(2021, 9, 1, 20, 45), 'base_price': 245.0, 'bag_price': 12.0, 'bags': 1}\n",
      "{'flight_no': 'ZH665', 'origin': 'RFZ', 'destination': 'ECV', 'departure': datetime.datetime(2021, 9, 1, 17, 40), 'arrival': datetime.datetime(2021, 9, 1, 20, 10), 'base_price': 58.0, 'bag_price': 12.0, 'bags': 1}\n",
      "{'flight_no': 'ZH214', 'origin': 'WIW', 'destination': 'RFZ', 'departure': datetime.datetime(2021, 9, 1, 23, 20), 'arrival': datetime.datetime(2021, 9, 2, 3, 50), 'base_price': 168.0, 'bag_price': 12.0, 'bags': 1}\n"
     ]
    }
   ],
   "source": [
    "for f in flights[:5]:\n",
    "    print(f)\n"
   ]
  },
  {
   "cell_type": "code",
   "execution_count": 24,
   "metadata": {},
   "outputs": [
    {
     "name": "stdout",
     "output_type": "stream",
     "text": [
      "Origin: RFZ\n",
      "Destination: ECV\n",
      "\n",
      "None\n",
      "None\n",
      "None\n",
      "None\n",
      "\n",
      "\n",
      "None\n",
      "None\n",
      "None\n",
      "None\n",
      "\n",
      "\n",
      "\n",
      "None\n",
      "None\n",
      "None\n",
      "None\n",
      "\n",
      "\n"
     ]
    }
   ],
   "source": [
    "def find_available_trips(origin: str, destination: str, flights: list, stops: int, trip: list = [], flight_from: str = '', flight_to: str = ''):\n",
    "    flight_from = origin if flight_from == '' else flight_from\n",
    "    flight_to = destination if flight_to == '' and stops == 0 else flight_to\n",
    "    for flight in flights:\n",
    "        if stops == 0:\n",
    "            if flight['origin'] == flight_from and flight['destination'] == destination:\n",
    "                print(trip)\n",
    "                # print(flight)\n",
    "                pass\n",
    "        else:\n",
    "            if flight['origin'] == flight_from:\n",
    "                find_available_trips(origin, destination, flights, stops - 1, trip = trip.append(flight), flight_from = flight['destination'], flight_to = '')\n",
    "                # print(trip)\n",
    "                print()\n",
    "\n",
    "            \n",
    "print(f'Origin: {origin}')\n",
    "print(f'Destination: {destination}')\n",
    "\n",
    "find_available_trips(origin, destination, flights, stops=1)"
   ]
  },
  {
   "cell_type": "code",
   "execution_count": null,
   "metadata": {},
   "outputs": [],
   "source": []
  }
 ],
 "metadata": {
  "interpreter": {
   "hash": "0f9e35451f96da2614e3e987922407113baac723759dd631f6620480eb0455ff"
  },
  "kernelspec": {
   "display_name": "Python 3.6.12 64-bit ('venv': venv)",
   "language": "python",
   "name": "python3"
  },
  "language_info": {
   "codemirror_mode": {
    "name": "ipython",
    "version": 3
   },
   "file_extension": ".py",
   "mimetype": "text/x-python",
   "name": "python",
   "nbconvert_exporter": "python",
   "pygments_lexer": "ipython3",
   "version": "3.6.12"
  },
  "orig_nbformat": 4
 },
 "nbformat": 4,
 "nbformat_minor": 2
}
